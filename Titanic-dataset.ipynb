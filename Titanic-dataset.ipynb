{
 "cells": [
  {
   "cell_type": "markdown",
   "id": "98681e25",
   "metadata": {},
   "source": [
    "# Hi! This is my first notebook\n",
    "## And also my first kaggle.. and \"Machine Learning\" project 😱😨🙀</br>\n",
    "\n",
    "## Let's start 😵"
   ]
  },
  {
   "cell_type": "code",
   "execution_count": 1,
   "id": "9d836288",
   "metadata": {},
   "outputs": [],
   "source": [
    "# import modules\n",
    "import pandas as pd\n",
    "import numpy as np"
   ]
  },
  {
   "cell_type": "markdown",
   "id": "4dedc852",
   "metadata": {},
   "source": [
    "### Load train and test data"
   ]
  },
  {
   "cell_type": "code",
   "execution_count": 2,
   "id": "ba1dd88d",
   "metadata": {},
   "outputs": [
    {
     "data": {
      "text/html": [
       "<div>\n",
       "<style scoped>\n",
       "    .dataframe tbody tr th:only-of-type {\n",
       "        vertical-align: middle;\n",
       "    }\n",
       "\n",
       "    .dataframe tbody tr th {\n",
       "        vertical-align: top;\n",
       "    }\n",
       "\n",
       "    .dataframe thead th {\n",
       "        text-align: right;\n",
       "    }\n",
       "</style>\n",
       "<table border=\"1\" class=\"dataframe\">\n",
       "  <thead>\n",
       "    <tr style=\"text-align: right;\">\n",
       "      <th></th>\n",
       "      <th>PassengerId</th>\n",
       "      <th>Survived</th>\n",
       "      <th>Pclass</th>\n",
       "      <th>Name</th>\n",
       "      <th>Sex</th>\n",
       "      <th>Age</th>\n",
       "      <th>SibSp</th>\n",
       "      <th>Parch</th>\n",
       "      <th>Ticket</th>\n",
       "      <th>Fare</th>\n",
       "      <th>Cabin</th>\n",
       "      <th>Embarked</th>\n",
       "    </tr>\n",
       "  </thead>\n",
       "  <tbody>\n",
       "    <tr>\n",
       "      <th>0</th>\n",
       "      <td>1</td>\n",
       "      <td>0</td>\n",
       "      <td>3</td>\n",
       "      <td>Braund, Mr. Owen Harris</td>\n",
       "      <td>male</td>\n",
       "      <td>22.0</td>\n",
       "      <td>1</td>\n",
       "      <td>0</td>\n",
       "      <td>A/5 21171</td>\n",
       "      <td>7.2500</td>\n",
       "      <td>NaN</td>\n",
       "      <td>S</td>\n",
       "    </tr>\n",
       "    <tr>\n",
       "      <th>1</th>\n",
       "      <td>2</td>\n",
       "      <td>1</td>\n",
       "      <td>1</td>\n",
       "      <td>Cumings, Mrs. John Bradley (Florence Briggs Th...</td>\n",
       "      <td>female</td>\n",
       "      <td>38.0</td>\n",
       "      <td>1</td>\n",
       "      <td>0</td>\n",
       "      <td>PC 17599</td>\n",
       "      <td>71.2833</td>\n",
       "      <td>C85</td>\n",
       "      <td>C</td>\n",
       "    </tr>\n",
       "    <tr>\n",
       "      <th>2</th>\n",
       "      <td>3</td>\n",
       "      <td>1</td>\n",
       "      <td>3</td>\n",
       "      <td>Heikkinen, Miss. Laina</td>\n",
       "      <td>female</td>\n",
       "      <td>26.0</td>\n",
       "      <td>0</td>\n",
       "      <td>0</td>\n",
       "      <td>STON/O2. 3101282</td>\n",
       "      <td>7.9250</td>\n",
       "      <td>NaN</td>\n",
       "      <td>S</td>\n",
       "    </tr>\n",
       "    <tr>\n",
       "      <th>3</th>\n",
       "      <td>4</td>\n",
       "      <td>1</td>\n",
       "      <td>1</td>\n",
       "      <td>Futrelle, Mrs. Jacques Heath (Lily May Peel)</td>\n",
       "      <td>female</td>\n",
       "      <td>35.0</td>\n",
       "      <td>1</td>\n",
       "      <td>0</td>\n",
       "      <td>113803</td>\n",
       "      <td>53.1000</td>\n",
       "      <td>C123</td>\n",
       "      <td>S</td>\n",
       "    </tr>\n",
       "    <tr>\n",
       "      <th>4</th>\n",
       "      <td>5</td>\n",
       "      <td>0</td>\n",
       "      <td>3</td>\n",
       "      <td>Allen, Mr. William Henry</td>\n",
       "      <td>male</td>\n",
       "      <td>35.0</td>\n",
       "      <td>0</td>\n",
       "      <td>0</td>\n",
       "      <td>373450</td>\n",
       "      <td>8.0500</td>\n",
       "      <td>NaN</td>\n",
       "      <td>S</td>\n",
       "    </tr>\n",
       "  </tbody>\n",
       "</table>\n",
       "</div>"
      ],
      "text/plain": [
       "   PassengerId  Survived  Pclass  \\\n",
       "0            1         0       3   \n",
       "1            2         1       1   \n",
       "2            3         1       3   \n",
       "3            4         1       1   \n",
       "4            5         0       3   \n",
       "\n",
       "                                                Name     Sex   Age  SibSp  \\\n",
       "0                            Braund, Mr. Owen Harris    male  22.0      1   \n",
       "1  Cumings, Mrs. John Bradley (Florence Briggs Th...  female  38.0      1   \n",
       "2                             Heikkinen, Miss. Laina  female  26.0      0   \n",
       "3       Futrelle, Mrs. Jacques Heath (Lily May Peel)  female  35.0      1   \n",
       "4                           Allen, Mr. William Henry    male  35.0      0   \n",
       "\n",
       "   Parch            Ticket     Fare Cabin Embarked  \n",
       "0      0         A/5 21171   7.2500   NaN        S  \n",
       "1      0          PC 17599  71.2833   C85        C  \n",
       "2      0  STON/O2. 3101282   7.9250   NaN        S  \n",
       "3      0            113803  53.1000  C123        S  \n",
       "4      0            373450   8.0500   NaN        S  "
      ]
     },
     "execution_count": 2,
     "metadata": {},
     "output_type": "execute_result"
    }
   ],
   "source": [
    "\n",
    "train = pd.read_csv('train.csv')\n",
    "test = pd.read_csv('test.csv')\n",
    "test_id = test['PassengerId']\n",
    "\n",
    "train.head()"
   ]
  },
  {
   "cell_type": "markdown",
   "id": "46fed8bd",
   "metadata": {},
   "source": [
    "### Let's look at some info of the data and it's correlation first"
   ]
  },
  {
   "cell_type": "code",
   "execution_count": 3,
   "id": "c4812f32",
   "metadata": {
    "scrolled": true
   },
   "outputs": [
    {
     "name": "stdout",
     "output_type": "stream",
     "text": [
      "<class 'pandas.core.frame.DataFrame'>\n",
      "RangeIndex: 891 entries, 0 to 890\n",
      "Data columns (total 12 columns):\n",
      " #   Column       Non-Null Count  Dtype  \n",
      "---  ------       --------------  -----  \n",
      " 0   PassengerId  891 non-null    int64  \n",
      " 1   Survived     891 non-null    int64  \n",
      " 2   Pclass       891 non-null    int64  \n",
      " 3   Name         891 non-null    object \n",
      " 4   Sex          891 non-null    object \n",
      " 5   Age          714 non-null    float64\n",
      " 6   SibSp        891 non-null    int64  \n",
      " 7   Parch        891 non-null    int64  \n",
      " 8   Ticket       891 non-null    object \n",
      " 9   Fare         891 non-null    float64\n",
      " 10  Cabin        204 non-null    object \n",
      " 11  Embarked     889 non-null    object \n",
      "dtypes: float64(2), int64(5), object(5)\n",
      "memory usage: 83.7+ KB\n",
      "<class 'pandas.core.frame.DataFrame'>\n",
      "RangeIndex: 418 entries, 0 to 417\n",
      "Data columns (total 11 columns):\n",
      " #   Column       Non-Null Count  Dtype  \n",
      "---  ------       --------------  -----  \n",
      " 0   PassengerId  418 non-null    int64  \n",
      " 1   Pclass       418 non-null    int64  \n",
      " 2   Name         418 non-null    object \n",
      " 3   Sex          418 non-null    object \n",
      " 4   Age          332 non-null    float64\n",
      " 5   SibSp        418 non-null    int64  \n",
      " 6   Parch        418 non-null    int64  \n",
      " 7   Ticket       418 non-null    object \n",
      " 8   Fare         417 non-null    float64\n",
      " 9   Cabin        91 non-null     object \n",
      " 10  Embarked     418 non-null    object \n",
      "dtypes: float64(2), int64(4), object(5)\n",
      "memory usage: 36.0+ KB\n"
     ]
    }
   ],
   "source": [
    "# Check data first\n",
    "train.info()\n",
    "test.info()"
   ]
  },
  {
   "cell_type": "markdown",
   "id": "851d5b4a",
   "metadata": {},
   "source": [
    "In both tables, **Age**, **Cabin** are having null values.</br>\n",
    "**Fare** has null only in test data and **Embarked** has null only in train data."
   ]
  },
  {
   "cell_type": "code",
   "execution_count": 4,
   "id": "22203ed2",
   "metadata": {
    "scrolled": false
   },
   "outputs": [
    {
     "data": {
      "text/html": [
       "<style type=\"text/css\">\n",
       "#T_cc00f_row0_col0, #T_cc00f_row1_col1, #T_cc00f_row2_col2, #T_cc00f_row3_col3, #T_cc00f_row4_col4, #T_cc00f_row5_col5, #T_cc00f_row6_col6 {\n",
       "  background-color: #006837;\n",
       "  color: #f1f1f1;\n",
       "}\n",
       "#T_cc00f_row0_col1 {\n",
       "  background-color: #f88c51;\n",
       "  color: #f1f1f1;\n",
       "}\n",
       "#T_cc00f_row0_col2 {\n",
       "  background-color: #fdbd6d;\n",
       "  color: #000000;\n",
       "}\n",
       "#T_cc00f_row0_col3 {\n",
       "  background-color: #fcaa5f;\n",
       "  color: #000000;\n",
       "}\n",
       "#T_cc00f_row0_col4, #T_cc00f_row3_col1 {\n",
       "  background-color: #f26841;\n",
       "  color: #f1f1f1;\n",
       "}\n",
       "#T_cc00f_row0_col5 {\n",
       "  background-color: #e75337;\n",
       "  color: #f1f1f1;\n",
       "}\n",
       "#T_cc00f_row0_col6 {\n",
       "  background-color: #fecc7b;\n",
       "  color: #000000;\n",
       "}\n",
       "#T_cc00f_row1_col0 {\n",
       "  background-color: #bd1726;\n",
       "  color: #f1f1f1;\n",
       "}\n",
       "#T_cc00f_row1_col2 {\n",
       "  background-color: #e14430;\n",
       "  color: #f1f1f1;\n",
       "}\n",
       "#T_cc00f_row1_col3 {\n",
       "  background-color: #f57547;\n",
       "  color: #f1f1f1;\n",
       "}\n",
       "#T_cc00f_row1_col4 {\n",
       "  background-color: #f57245;\n",
       "  color: #f1f1f1;\n",
       "}\n",
       "#T_cc00f_row1_col5 {\n",
       "  background-color: #f67f4b;\n",
       "  color: #f1f1f1;\n",
       "}\n",
       "#T_cc00f_row1_col6 {\n",
       "  background-color: #f7fcb4;\n",
       "  color: #000000;\n",
       "}\n",
       "#T_cc00f_row2_col0 {\n",
       "  background-color: #af0926;\n",
       "  color: #f1f1f1;\n",
       "}\n",
       "#T_cc00f_row2_col1, #T_cc00f_row2_col3, #T_cc00f_row2_col6, #T_cc00f_row3_col4, #T_cc00f_row3_col5, #T_cc00f_row4_col0, #T_cc00f_row6_col2 {\n",
       "  background-color: #a50026;\n",
       "  color: #f1f1f1;\n",
       "}\n",
       "#T_cc00f_row2_col4 {\n",
       "  background-color: #fdad60;\n",
       "  color: #000000;\n",
       "}\n",
       "#T_cc00f_row2_col5 {\n",
       "  background-color: #ec5c3b;\n",
       "  color: #f1f1f1;\n",
       "}\n",
       "#T_cc00f_row3_col0 {\n",
       "  background-color: #d02927;\n",
       "  color: #f1f1f1;\n",
       "}\n",
       "#T_cc00f_row3_col2 {\n",
       "  background-color: #db382b;\n",
       "  color: #f1f1f1;\n",
       "}\n",
       "#T_cc00f_row3_col6 {\n",
       "  background-color: #fee593;\n",
       "  color: #000000;\n",
       "}\n",
       "#T_cc00f_row4_col1 {\n",
       "  background-color: #f67c4a;\n",
       "  color: #f1f1f1;\n",
       "}\n",
       "#T_cc00f_row4_col2 {\n",
       "  background-color: #fee28f;\n",
       "  color: #000000;\n",
       "}\n",
       "#T_cc00f_row4_col3 {\n",
       "  background-color: #bb1526;\n",
       "  color: #f1f1f1;\n",
       "}\n",
       "#T_cc00f_row4_col5 {\n",
       "  background-color: #fbfdba;\n",
       "  color: #000000;\n",
       "}\n",
       "#T_cc00f_row4_col6 {\n",
       "  background-color: #fff2aa;\n",
       "  color: #000000;\n",
       "}\n",
       "#T_cc00f_row5_col0 {\n",
       "  background-color: #be1827;\n",
       "  color: #f1f1f1;\n",
       "}\n",
       "#T_cc00f_row5_col1 {\n",
       "  background-color: #fdb567;\n",
       "  color: #000000;\n",
       "}\n",
       "#T_cc00f_row5_col2 {\n",
       "  background-color: #fece7c;\n",
       "  color: #000000;\n",
       "}\n",
       "#T_cc00f_row5_col3 {\n",
       "  background-color: #e0422f;\n",
       "  color: #f1f1f1;\n",
       "}\n",
       "#T_cc00f_row5_col4 {\n",
       "  background-color: #ebf7a3;\n",
       "  color: #000000;\n",
       "}\n",
       "#T_cc00f_row5_col6 {\n",
       "  background-color: #fffdbc;\n",
       "  color: #000000;\n",
       "}\n",
       "#T_cc00f_row6_col0 {\n",
       "  background-color: #c41e27;\n",
       "  color: #f1f1f1;\n",
       "}\n",
       "#T_cc00f_row6_col1 {\n",
       "  background-color: #feeda1;\n",
       "  color: #000000;\n",
       "}\n",
       "#T_cc00f_row6_col3 {\n",
       "  background-color: #fdc171;\n",
       "  color: #000000;\n",
       "}\n",
       "#T_cc00f_row6_col4 {\n",
       "  background-color: #feca79;\n",
       "  color: #000000;\n",
       "}\n",
       "#T_cc00f_row6_col5 {\n",
       "  background-color: #fdc372;\n",
       "  color: #000000;\n",
       "}\n",
       "</style>\n",
       "<table id=\"T_cc00f\">\n",
       "  <thead>\n",
       "    <tr>\n",
       "      <th class=\"blank level0\" >&nbsp;</th>\n",
       "      <th id=\"T_cc00f_level0_col0\" class=\"col_heading level0 col0\" >PassengerId</th>\n",
       "      <th id=\"T_cc00f_level0_col1\" class=\"col_heading level0 col1\" >Survived</th>\n",
       "      <th id=\"T_cc00f_level0_col2\" class=\"col_heading level0 col2\" >Pclass</th>\n",
       "      <th id=\"T_cc00f_level0_col3\" class=\"col_heading level0 col3\" >Age</th>\n",
       "      <th id=\"T_cc00f_level0_col4\" class=\"col_heading level0 col4\" >SibSp</th>\n",
       "      <th id=\"T_cc00f_level0_col5\" class=\"col_heading level0 col5\" >Parch</th>\n",
       "      <th id=\"T_cc00f_level0_col6\" class=\"col_heading level0 col6\" >Fare</th>\n",
       "    </tr>\n",
       "  </thead>\n",
       "  <tbody>\n",
       "    <tr>\n",
       "      <th id=\"T_cc00f_level0_row0\" class=\"row_heading level0 row0\" >PassengerId</th>\n",
       "      <td id=\"T_cc00f_row0_col0\" class=\"data row0 col0\" >1.000000</td>\n",
       "      <td id=\"T_cc00f_row0_col1\" class=\"data row0 col1\" >-0.005007</td>\n",
       "      <td id=\"T_cc00f_row0_col2\" class=\"data row0 col2\" >-0.035144</td>\n",
       "      <td id=\"T_cc00f_row0_col3\" class=\"data row0 col3\" >0.036847</td>\n",
       "      <td id=\"T_cc00f_row0_col4\" class=\"data row0 col4\" >-0.057527</td>\n",
       "      <td id=\"T_cc00f_row0_col5\" class=\"data row0 col5\" >-0.001652</td>\n",
       "      <td id=\"T_cc00f_row0_col6\" class=\"data row0 col6\" >0.012658</td>\n",
       "    </tr>\n",
       "    <tr>\n",
       "      <th id=\"T_cc00f_level0_row1\" class=\"row_heading level0 row1\" >Survived</th>\n",
       "      <td id=\"T_cc00f_row1_col0\" class=\"data row1 col0\" >-0.005007</td>\n",
       "      <td id=\"T_cc00f_row1_col1\" class=\"data row1 col1\" >1.000000</td>\n",
       "      <td id=\"T_cc00f_row1_col2\" class=\"data row1 col2\" >-0.338481</td>\n",
       "      <td id=\"T_cc00f_row1_col3\" class=\"data row1 col3\" >-0.077221</td>\n",
       "      <td id=\"T_cc00f_row1_col4\" class=\"data row1 col4\" >-0.035322</td>\n",
       "      <td id=\"T_cc00f_row1_col5\" class=\"data row1 col5\" >0.081629</td>\n",
       "      <td id=\"T_cc00f_row1_col6\" class=\"data row1 col6\" >0.257307</td>\n",
       "    </tr>\n",
       "    <tr>\n",
       "      <th id=\"T_cc00f_level0_row2\" class=\"row_heading level0 row2\" >Pclass</th>\n",
       "      <td id=\"T_cc00f_row2_col0\" class=\"data row2 col0\" >-0.035144</td>\n",
       "      <td id=\"T_cc00f_row2_col1\" class=\"data row2 col1\" >-0.338481</td>\n",
       "      <td id=\"T_cc00f_row2_col2\" class=\"data row2 col2\" >1.000000</td>\n",
       "      <td id=\"T_cc00f_row2_col3\" class=\"data row2 col3\" >-0.369226</td>\n",
       "      <td id=\"T_cc00f_row2_col4\" class=\"data row2 col4\" >0.083081</td>\n",
       "      <td id=\"T_cc00f_row2_col5\" class=\"data row2 col5\" >0.018443</td>\n",
       "      <td id=\"T_cc00f_row2_col6\" class=\"data row2 col6\" >-0.549500</td>\n",
       "    </tr>\n",
       "    <tr>\n",
       "      <th id=\"T_cc00f_level0_row3\" class=\"row_heading level0 row3\" >Age</th>\n",
       "      <td id=\"T_cc00f_row3_col0\" class=\"data row3 col0\" >0.036847</td>\n",
       "      <td id=\"T_cc00f_row3_col1\" class=\"data row3 col1\" >-0.077221</td>\n",
       "      <td id=\"T_cc00f_row3_col2\" class=\"data row3 col2\" >-0.369226</td>\n",
       "      <td id=\"T_cc00f_row3_col3\" class=\"data row3 col3\" >1.000000</td>\n",
       "      <td id=\"T_cc00f_row3_col4\" class=\"data row3 col4\" >-0.308247</td>\n",
       "      <td id=\"T_cc00f_row3_col5\" class=\"data row3 col5\" >-0.189119</td>\n",
       "      <td id=\"T_cc00f_row3_col6\" class=\"data row3 col6\" >0.096067</td>\n",
       "    </tr>\n",
       "    <tr>\n",
       "      <th id=\"T_cc00f_level0_row4\" class=\"row_heading level0 row4\" >SibSp</th>\n",
       "      <td id=\"T_cc00f_row4_col0\" class=\"data row4 col0\" >-0.057527</td>\n",
       "      <td id=\"T_cc00f_row4_col1\" class=\"data row4 col1\" >-0.035322</td>\n",
       "      <td id=\"T_cc00f_row4_col2\" class=\"data row4 col2\" >0.083081</td>\n",
       "      <td id=\"T_cc00f_row4_col3\" class=\"data row4 col3\" >-0.308247</td>\n",
       "      <td id=\"T_cc00f_row4_col4\" class=\"data row4 col4\" >1.000000</td>\n",
       "      <td id=\"T_cc00f_row4_col5\" class=\"data row4 col5\" >0.414838</td>\n",
       "      <td id=\"T_cc00f_row4_col6\" class=\"data row4 col6\" >0.159651</td>\n",
       "    </tr>\n",
       "    <tr>\n",
       "      <th id=\"T_cc00f_level0_row5\" class=\"row_heading level0 row5\" >Parch</th>\n",
       "      <td id=\"T_cc00f_row5_col0\" class=\"data row5 col0\" >-0.001652</td>\n",
       "      <td id=\"T_cc00f_row5_col1\" class=\"data row5 col1\" >0.081629</td>\n",
       "      <td id=\"T_cc00f_row5_col2\" class=\"data row5 col2\" >0.018443</td>\n",
       "      <td id=\"T_cc00f_row5_col3\" class=\"data row5 col3\" >-0.189119</td>\n",
       "      <td id=\"T_cc00f_row5_col4\" class=\"data row5 col4\" >0.414838</td>\n",
       "      <td id=\"T_cc00f_row5_col5\" class=\"data row5 col5\" >1.000000</td>\n",
       "      <td id=\"T_cc00f_row5_col6\" class=\"data row5 col6\" >0.216225</td>\n",
       "    </tr>\n",
       "    <tr>\n",
       "      <th id=\"T_cc00f_level0_row6\" class=\"row_heading level0 row6\" >Fare</th>\n",
       "      <td id=\"T_cc00f_row6_col0\" class=\"data row6 col0\" >0.012658</td>\n",
       "      <td id=\"T_cc00f_row6_col1\" class=\"data row6 col1\" >0.257307</td>\n",
       "      <td id=\"T_cc00f_row6_col2\" class=\"data row6 col2\" >-0.549500</td>\n",
       "      <td id=\"T_cc00f_row6_col3\" class=\"data row6 col3\" >0.096067</td>\n",
       "      <td id=\"T_cc00f_row6_col4\" class=\"data row6 col4\" >0.159651</td>\n",
       "      <td id=\"T_cc00f_row6_col5\" class=\"data row6 col5\" >0.216225</td>\n",
       "      <td id=\"T_cc00f_row6_col6\" class=\"data row6 col6\" >1.000000</td>\n",
       "    </tr>\n",
       "  </tbody>\n",
       "</table>\n"
      ],
      "text/plain": [
       "<pandas.io.formats.style.Styler at 0x19ed7fda2e0>"
      ]
     },
     "execution_count": 4,
     "metadata": {},
     "output_type": "execute_result"
    }
   ],
   "source": [
    "# check correlation\n",
    "corr = train.corr()\n",
    "corr.style.background_gradient(cmap='RdYlGn')"
   ]
  },
  {
   "cell_type": "code",
   "execution_count": 5,
   "id": "3b7dfc97",
   "metadata": {
    "scrolled": true
   },
   "outputs": [
    {
     "data": {
      "text/html": [
       "<style type=\"text/css\">\n",
       "#T_bcfde_row0_col0, #T_bcfde_row1_col1, #T_bcfde_row2_col2, #T_bcfde_row3_col3, #T_bcfde_row4_col4, #T_bcfde_row5_col5, #T_bcfde_row6_col6 {\n",
       "  background-color: #006837;\n",
       "  color: #f1f1f1;\n",
       "}\n",
       "#T_bcfde_row0_col1 {\n",
       "  background-color: #f8864f;\n",
       "  color: #f1f1f1;\n",
       "}\n",
       "#T_bcfde_row0_col2, #T_bcfde_row5_col1 {\n",
       "  background-color: #fdc574;\n",
       "  color: #000000;\n",
       "}\n",
       "#T_bcfde_row0_col3 {\n",
       "  background-color: #f88950;\n",
       "  color: #f1f1f1;\n",
       "}\n",
       "#T_bcfde_row0_col4 {\n",
       "  background-color: #ce2827;\n",
       "  color: #f1f1f1;\n",
       "}\n",
       "#T_bcfde_row0_col5 {\n",
       "  background-color: #ea5739;\n",
       "  color: #f1f1f1;\n",
       "}\n",
       "#T_bcfde_row0_col6 {\n",
       "  background-color: #feca79;\n",
       "  color: #000000;\n",
       "}\n",
       "#T_bcfde_row1_col0 {\n",
       "  background-color: #b91326;\n",
       "  color: #f1f1f1;\n",
       "}\n",
       "#T_bcfde_row1_col2 {\n",
       "  background-color: #e75337;\n",
       "  color: #f1f1f1;\n",
       "}\n",
       "#T_bcfde_row1_col3 {\n",
       "  background-color: #f16640;\n",
       "  color: #f1f1f1;\n",
       "}\n",
       "#T_bcfde_row1_col4 {\n",
       "  background-color: #f46d43;\n",
       "  color: #f1f1f1;\n",
       "}\n",
       "#T_bcfde_row1_col5 {\n",
       "  background-color: #fba05b;\n",
       "  color: #000000;\n",
       "}\n",
       "#T_bcfde_row1_col6 {\n",
       "  background-color: #f2faae;\n",
       "  color: #000000;\n",
       "}\n",
       "#T_bcfde_row2_col0 {\n",
       "  background-color: #af0926;\n",
       "  color: #f1f1f1;\n",
       "}\n",
       "#T_bcfde_row2_col1, #T_bcfde_row2_col3, #T_bcfde_row2_col6, #T_bcfde_row3_col4, #T_bcfde_row3_col5, #T_bcfde_row4_col0, #T_bcfde_row6_col2 {\n",
       "  background-color: #a50026;\n",
       "  color: #f1f1f1;\n",
       "}\n",
       "#T_bcfde_row2_col4 {\n",
       "  background-color: #d22b27;\n",
       "  color: #f1f1f1;\n",
       "}\n",
       "#T_bcfde_row2_col5 {\n",
       "  background-color: #e54e35;\n",
       "  color: #f1f1f1;\n",
       "}\n",
       "#T_bcfde_row3_col0 {\n",
       "  background-color: #c82227;\n",
       "  color: #f1f1f1;\n",
       "}\n",
       "#T_bcfde_row3_col1 {\n",
       "  background-color: #f57547;\n",
       "  color: #f1f1f1;\n",
       "}\n",
       "#T_bcfde_row3_col2 {\n",
       "  background-color: #ee613e;\n",
       "  color: #f1f1f1;\n",
       "}\n",
       "#T_bcfde_row3_col6 {\n",
       "  background-color: #fee797;\n",
       "  color: #000000;\n",
       "}\n",
       "#T_bcfde_row4_col1 {\n",
       "  background-color: #fdb365;\n",
       "  color: #000000;\n",
       "}\n",
       "#T_bcfde_row4_col2 {\n",
       "  background-color: #fdc171;\n",
       "  color: #000000;\n",
       "}\n",
       "#T_bcfde_row4_col3 {\n",
       "  background-color: #da362a;\n",
       "  color: #f1f1f1;\n",
       "}\n",
       "#T_bcfde_row4_col5 {\n",
       "  background-color: #f7fcb4;\n",
       "  color: #000000;\n",
       "}\n",
       "#T_bcfde_row4_col6 {\n",
       "  background-color: #dcf08f;\n",
       "  color: #000000;\n",
       "}\n",
       "#T_bcfde_row5_col0 {\n",
       "  background-color: #bd1726;\n",
       "  color: #f1f1f1;\n",
       "}\n",
       "#T_bcfde_row5_col2 {\n",
       "  background-color: #fdc776;\n",
       "  color: #000000;\n",
       "}\n",
       "#T_bcfde_row5_col3 {\n",
       "  background-color: #c62027;\n",
       "  color: #f1f1f1;\n",
       "}\n",
       "#T_bcfde_row5_col4 {\n",
       "  background-color: #fffebe;\n",
       "  color: #000000;\n",
       "}\n",
       "#T_bcfde_row5_col6 {\n",
       "  background-color: #e2f397;\n",
       "  color: #000000;\n",
       "}\n",
       "#T_bcfde_row6_col0 {\n",
       "  background-color: #b71126;\n",
       "  color: #f1f1f1;\n",
       "}\n",
       "#T_bcfde_row6_col1 {\n",
       "  background-color: #feefa3;\n",
       "  color: #000000;\n",
       "}\n",
       "#T_bcfde_row6_col3 {\n",
       "  background-color: #fcaa5f;\n",
       "  color: #000000;\n",
       "}\n",
       "#T_bcfde_row6_col4 {\n",
       "  background-color: #feec9f;\n",
       "  color: #000000;\n",
       "}\n",
       "#T_bcfde_row6_col5 {\n",
       "  background-color: #feeda1;\n",
       "  color: #000000;\n",
       "}\n",
       "</style>\n",
       "<table id=\"T_bcfde\">\n",
       "  <thead>\n",
       "    <tr>\n",
       "      <th class=\"blank level0\" >&nbsp;</th>\n",
       "      <th id=\"T_bcfde_level0_col0\" class=\"col_heading level0 col0\" >PassengerId</th>\n",
       "      <th id=\"T_bcfde_level0_col1\" class=\"col_heading level0 col1\" >Survived</th>\n",
       "      <th id=\"T_bcfde_level0_col2\" class=\"col_heading level0 col2\" >Pclass</th>\n",
       "      <th id=\"T_bcfde_level0_col3\" class=\"col_heading level0 col3\" >Age</th>\n",
       "      <th id=\"T_bcfde_level0_col4\" class=\"col_heading level0 col4\" >SibSp</th>\n",
       "      <th id=\"T_bcfde_level0_col5\" class=\"col_heading level0 col5\" >Parch</th>\n",
       "      <th id=\"T_bcfde_level0_col6\" class=\"col_heading level0 col6\" >Fare</th>\n",
       "    </tr>\n",
       "  </thead>\n",
       "  <tbody>\n",
       "    <tr>\n",
       "      <th id=\"T_bcfde_level0_row0\" class=\"row_heading level0 row0\" >PassengerId</th>\n",
       "      <td id=\"T_bcfde_row0_col0\" class=\"data row0 col0\" >1.000000</td>\n",
       "      <td id=\"T_bcfde_row0_col1\" class=\"data row0 col1\" >-0.004090</td>\n",
       "      <td id=\"T_bcfde_row0_col2\" class=\"data row0 col2\" >-0.026824</td>\n",
       "      <td id=\"T_bcfde_row0_col3\" class=\"data row0 col3\" >0.027542</td>\n",
       "      <td id=\"T_bcfde_row0_col4\" class=\"data row0 col4\" >-0.048394</td>\n",
       "      <td id=\"T_bcfde_row0_col5\" class=\"data row0 col5\" >0.000798</td>\n",
       "      <td id=\"T_bcfde_row0_col6\" class=\"data row0 col6\" >-0.008921</td>\n",
       "    </tr>\n",
       "    <tr>\n",
       "      <th id=\"T_bcfde_level0_row1\" class=\"row_heading level0 row1\" >Survived</th>\n",
       "      <td id=\"T_bcfde_row1_col0\" class=\"data row1 col0\" >-0.004090</td>\n",
       "      <td id=\"T_bcfde_row1_col1\" class=\"data row1 col1\" >1.000000</td>\n",
       "      <td id=\"T_bcfde_row1_col2\" class=\"data row1 col2\" >-0.323533</td>\n",
       "      <td id=\"T_bcfde_row1_col3\" class=\"data row1 col3\" >-0.043385</td>\n",
       "      <td id=\"T_bcfde_row1_col4\" class=\"data row1 col4\" >0.085915</td>\n",
       "      <td id=\"T_bcfde_row1_col5\" class=\"data row1 col5\" >0.133933</td>\n",
       "      <td id=\"T_bcfde_row1_col6\" class=\"data row1 col6\" >0.266229</td>\n",
       "    </tr>\n",
       "    <tr>\n",
       "      <th id=\"T_bcfde_level0_row2\" class=\"row_heading level0 row2\" >Pclass</th>\n",
       "      <td id=\"T_bcfde_row2_col0\" class=\"data row2 col0\" >-0.026824</td>\n",
       "      <td id=\"T_bcfde_row2_col1\" class=\"data row2 col1\" >-0.323533</td>\n",
       "      <td id=\"T_bcfde_row2_col2\" class=\"data row2 col2\" >1.000000</td>\n",
       "      <td id=\"T_bcfde_row2_col3\" class=\"data row2 col3\" >-0.286081</td>\n",
       "      <td id=\"T_bcfde_row2_col4\" class=\"data row2 col4\" >-0.039552</td>\n",
       "      <td id=\"T_bcfde_row2_col5\" class=\"data row2 col5\" >-0.021019</td>\n",
       "      <td id=\"T_bcfde_row2_col6\" class=\"data row2 col6\" >-0.573531</td>\n",
       "    </tr>\n",
       "    <tr>\n",
       "      <th id=\"T_bcfde_level0_row3\" class=\"row_heading level0 row3\" >Age</th>\n",
       "      <td id=\"T_bcfde_row3_col0\" class=\"data row3 col0\" >0.027542</td>\n",
       "      <td id=\"T_bcfde_row3_col1\" class=\"data row3 col1\" >-0.043385</td>\n",
       "      <td id=\"T_bcfde_row3_col2\" class=\"data row3 col2\" >-0.286081</td>\n",
       "      <td id=\"T_bcfde_row3_col3\" class=\"data row3 col3\" >1.000000</td>\n",
       "      <td id=\"T_bcfde_row3_col4\" class=\"data row3 col4\" >-0.142746</td>\n",
       "      <td id=\"T_bcfde_row3_col5\" class=\"data row3 col5\" >-0.200112</td>\n",
       "      <td id=\"T_bcfde_row3_col6\" class=\"data row3 col6\" >0.093249</td>\n",
       "    </tr>\n",
       "    <tr>\n",
       "      <th id=\"T_bcfde_level0_row4\" class=\"row_heading level0 row4\" >SibSp</th>\n",
       "      <td id=\"T_bcfde_row4_col0\" class=\"data row4 col0\" >-0.048394</td>\n",
       "      <td id=\"T_bcfde_row4_col1\" class=\"data row4 col1\" >0.085915</td>\n",
       "      <td id=\"T_bcfde_row4_col2\" class=\"data row4 col2\" >-0.039552</td>\n",
       "      <td id=\"T_bcfde_row4_col3\" class=\"data row4 col3\" >-0.142746</td>\n",
       "      <td id=\"T_bcfde_row4_col4\" class=\"data row4 col4\" >1.000000</td>\n",
       "      <td id=\"T_bcfde_row4_col5\" class=\"data row4 col5\" >0.425241</td>\n",
       "      <td id=\"T_bcfde_row4_col6\" class=\"data row4 col6\" >0.358262</td>\n",
       "    </tr>\n",
       "    <tr>\n",
       "      <th id=\"T_bcfde_level0_row5\" class=\"row_heading level0 row5\" >Parch</th>\n",
       "      <td id=\"T_bcfde_row5_col0\" class=\"data row5 col0\" >0.000798</td>\n",
       "      <td id=\"T_bcfde_row5_col1\" class=\"data row5 col1\" >0.133933</td>\n",
       "      <td id=\"T_bcfde_row5_col2\" class=\"data row5 col2\" >-0.021019</td>\n",
       "      <td id=\"T_bcfde_row5_col3\" class=\"data row5 col3\" >-0.200112</td>\n",
       "      <td id=\"T_bcfde_row5_col4\" class=\"data row5 col4\" >0.425241</td>\n",
       "      <td id=\"T_bcfde_row5_col5\" class=\"data row5 col5\" >1.000000</td>\n",
       "      <td id=\"T_bcfde_row5_col6\" class=\"data row5 col6\" >0.330360</td>\n",
       "    </tr>\n",
       "    <tr>\n",
       "      <th id=\"T_bcfde_level0_row6\" class=\"row_heading level0 row6\" >Fare</th>\n",
       "      <td id=\"T_bcfde_row6_col0\" class=\"data row6 col0\" >-0.008921</td>\n",
       "      <td id=\"T_bcfde_row6_col1\" class=\"data row6 col1\" >0.266229</td>\n",
       "      <td id=\"T_bcfde_row6_col2\" class=\"data row6 col2\" >-0.573531</td>\n",
       "      <td id=\"T_bcfde_row6_col3\" class=\"data row6 col3\" >0.093249</td>\n",
       "      <td id=\"T_bcfde_row6_col4\" class=\"data row6 col4\" >0.358262</td>\n",
       "      <td id=\"T_bcfde_row6_col5\" class=\"data row6 col5\" >0.330360</td>\n",
       "      <td id=\"T_bcfde_row6_col6\" class=\"data row6 col6\" >1.000000</td>\n",
       "    </tr>\n",
       "  </tbody>\n",
       "</table>\n"
      ],
      "text/plain": [
       "<pandas.io.formats.style.Styler at 0x19ed7fb8640>"
      ]
     },
     "execution_count": 5,
     "metadata": {},
     "output_type": "execute_result"
    }
   ],
   "source": [
    "corr = train.corr(method=\"kendall\")\n",
    "corr.style.background_gradient(cmap='RdYlGn')"
   ]
  },
  {
   "cell_type": "markdown",
   "id": "e12ea35c",
   "metadata": {},
   "source": [
    "Next step is **dropping** unused column for the models.</br>I have decided to drop **'PassengerID'**, **'Name'**, **'Ticket and **'Cabin'** columns</br>\n",
    "After that we fill **Age**'s null values with median and **Embarked**'s with 'Unknown'\n",
    "\n",
    "Here i've made reusable code for dropping column and removing null with mean, median, or any string we want..."
   ]
  },
  {
   "cell_type": "code",
   "execution_count": 6,
   "id": "80930000",
   "metadata": {},
   "outputs": [],
   "source": [
    "# create reusable function for column dropping and null value replacing\n",
    "\n",
    "def drop_cols(data, drop_cols): #column-dropping function\n",
    "    data = data.drop(drop_cols, axis=1)\n",
    "    return data\n",
    "\n",
    "def na_median (data, na_cols): #change null to median\n",
    "    for col in na_cols:\n",
    "        data[col].fillna(data[col].median(), inplace=True)\n",
    "    return data\n",
    "\n",
    "def na_mean (data, na_cols): #change null to mean\n",
    "    for col in na_cols:\n",
    "        data[col].fillna(data[col].mean(), inplace=True)\n",
    "    return data\n",
    "\n",
    "def na_string (data, na_cols, fillwith): #change null to any string\n",
    "    for col in na_cols:\n",
    "        data[col].fillna('{}'.format(fillwith), inplace=True)\n",
    "    return data"
   ]
  },
  {
   "cell_type": "code",
   "execution_count": 7,
   "id": "850ba7bf",
   "metadata": {},
   "outputs": [],
   "source": [
    "# use self-built function to clean 😀\n",
    "        \n",
    "\n",
    "train = drop_cols(train, ['PassengerId', 'Name', 'Ticket', 'Cabin'])\n",
    "train = na_median(train, ['Age'])\n",
    "train = na_string(train, ['Embarked'], 'U' )\n",
    "\n",
    "test = drop_cols(test, ['PassengerId', 'Name', 'Ticket', 'Cabin'])\n",
    "test = na_median(test, ['Age'])\n",
    "test = na_mean(test, ['Fare'])\n",
    "    "
   ]
  },
  {
   "cell_type": "markdown",
   "id": "28eb7b8a",
   "metadata": {},
   "source": [
    "#### check if it's solved"
   ]
  },
  {
   "cell_type": "code",
   "execution_count": 8,
   "id": "3b04eb40",
   "metadata": {
    "scrolled": true
   },
   "outputs": [
    {
     "name": "stdout",
     "output_type": "stream",
     "text": [
      "<class 'pandas.core.frame.DataFrame'>\n",
      "RangeIndex: 891 entries, 0 to 890\n",
      "Data columns (total 8 columns):\n",
      " #   Column    Non-Null Count  Dtype  \n",
      "---  ------    --------------  -----  \n",
      " 0   Survived  891 non-null    int64  \n",
      " 1   Pclass    891 non-null    int64  \n",
      " 2   Sex       891 non-null    object \n",
      " 3   Age       891 non-null    float64\n",
      " 4   SibSp     891 non-null    int64  \n",
      " 5   Parch     891 non-null    int64  \n",
      " 6   Fare      891 non-null    float64\n",
      " 7   Embarked  891 non-null    object \n",
      "dtypes: float64(2), int64(4), object(2)\n",
      "memory usage: 55.8+ KB\n",
      "<class 'pandas.core.frame.DataFrame'>\n",
      "RangeIndex: 418 entries, 0 to 417\n",
      "Data columns (total 7 columns):\n",
      " #   Column    Non-Null Count  Dtype  \n",
      "---  ------    --------------  -----  \n",
      " 0   Pclass    418 non-null    int64  \n",
      " 1   Sex       418 non-null    object \n",
      " 2   Age       418 non-null    float64\n",
      " 3   SibSp     418 non-null    int64  \n",
      " 4   Parch     418 non-null    int64  \n",
      " 5   Fare      418 non-null    float64\n",
      " 6   Embarked  418 non-null    object \n",
      "dtypes: float64(2), int64(3), object(2)\n",
      "memory usage: 23.0+ KB\n"
     ]
    }
   ],
   "source": [
    "train.info()\n",
    "test.info()"
   ]
  },
  {
   "cell_type": "markdown",
   "id": "e9f61ad1",
   "metadata": {},
   "source": [
    "🙄"
   ]
  },
  {
   "cell_type": "markdown",
   "id": "7085edda",
   "metadata": {},
   "source": [
    "### Change 'Sex' and 'Embarked' columns to numerical value\n",
    "#### as Sex and Embarked columns datatype is object, we should change them so that it'll fit to the \"machine learning model\" 🤠"
   ]
  },
  {
   "cell_type": "code",
   "execution_count": 9,
   "id": "c33d5f40",
   "metadata": {
    "scrolled": true
   },
   "outputs": [
    {
     "name": "stdout",
     "output_type": "stream",
     "text": [
      "['female' 'male']\n",
      "['C' 'Q' 'S' 'U']\n"
     ]
    },
    {
     "data": {
      "text/html": [
       "<div>\n",
       "<style scoped>\n",
       "    .dataframe tbody tr th:only-of-type {\n",
       "        vertical-align: middle;\n",
       "    }\n",
       "\n",
       "    .dataframe tbody tr th {\n",
       "        vertical-align: top;\n",
       "    }\n",
       "\n",
       "    .dataframe thead th {\n",
       "        text-align: right;\n",
       "    }\n",
       "</style>\n",
       "<table border=\"1\" class=\"dataframe\">\n",
       "  <thead>\n",
       "    <tr style=\"text-align: right;\">\n",
       "      <th></th>\n",
       "      <th>Survived</th>\n",
       "      <th>Pclass</th>\n",
       "      <th>Sex</th>\n",
       "      <th>Age</th>\n",
       "      <th>SibSp</th>\n",
       "      <th>Parch</th>\n",
       "      <th>Fare</th>\n",
       "      <th>Embarked</th>\n",
       "    </tr>\n",
       "  </thead>\n",
       "  <tbody>\n",
       "    <tr>\n",
       "      <th>0</th>\n",
       "      <td>0</td>\n",
       "      <td>3</td>\n",
       "      <td>1</td>\n",
       "      <td>22.0</td>\n",
       "      <td>1</td>\n",
       "      <td>0</td>\n",
       "      <td>7.2500</td>\n",
       "      <td>2</td>\n",
       "    </tr>\n",
       "    <tr>\n",
       "      <th>1</th>\n",
       "      <td>1</td>\n",
       "      <td>1</td>\n",
       "      <td>0</td>\n",
       "      <td>38.0</td>\n",
       "      <td>1</td>\n",
       "      <td>0</td>\n",
       "      <td>71.2833</td>\n",
       "      <td>0</td>\n",
       "    </tr>\n",
       "    <tr>\n",
       "      <th>2</th>\n",
       "      <td>1</td>\n",
       "      <td>3</td>\n",
       "      <td>0</td>\n",
       "      <td>26.0</td>\n",
       "      <td>0</td>\n",
       "      <td>0</td>\n",
       "      <td>7.9250</td>\n",
       "      <td>2</td>\n",
       "    </tr>\n",
       "    <tr>\n",
       "      <th>3</th>\n",
       "      <td>1</td>\n",
       "      <td>1</td>\n",
       "      <td>0</td>\n",
       "      <td>35.0</td>\n",
       "      <td>1</td>\n",
       "      <td>0</td>\n",
       "      <td>53.1000</td>\n",
       "      <td>2</td>\n",
       "    </tr>\n",
       "    <tr>\n",
       "      <th>4</th>\n",
       "      <td>0</td>\n",
       "      <td>3</td>\n",
       "      <td>1</td>\n",
       "      <td>35.0</td>\n",
       "      <td>0</td>\n",
       "      <td>0</td>\n",
       "      <td>8.0500</td>\n",
       "      <td>2</td>\n",
       "    </tr>\n",
       "  </tbody>\n",
       "</table>\n",
       "</div>"
      ],
      "text/plain": [
       "   Survived  Pclass  Sex   Age  SibSp  Parch     Fare  Embarked\n",
       "0         0       3    1  22.0      1      0   7.2500         2\n",
       "1         1       1    0  38.0      1      0  71.2833         0\n",
       "2         1       3    0  26.0      0      0   7.9250         2\n",
       "3         1       1    0  35.0      1      0  53.1000         2\n",
       "4         0       3    1  35.0      0      0   8.0500         2"
      ]
     },
     "execution_count": 9,
     "metadata": {},
     "output_type": "execute_result"
    }
   ],
   "source": [
    "from sklearn import preprocessing\n",
    "le = preprocessing.LabelEncoder()\n",
    "columns = [\"Sex\", \"Embarked\"]\n",
    "\n",
    "for col in columns:\n",
    "    \n",
    "    train[col] = le.fit_transform(train[col])\n",
    "    test[col] = le.transform(test[col])\n",
    "    print(le.classes_)\n",
    "    \n",
    "train.head(5)"
   ]
  },
  {
   "cell_type": "markdown",
   "id": "1df640ce",
   "metadata": {},
   "source": [
    "**'Sex'** and **'Embarked'** has changed to int datatype from objects<br/><br/>\n",
    "New numbers of them are assigned to 0-started index alphabetically (0 is **F**emale, 1 is **M**ale;\n",
    "0 is **C**, 1 is 2 is **Q** and so on)"
   ]
  },
  {
   "cell_type": "markdown",
   "id": "0dc3bb87",
   "metadata": {},
   "source": [
    "Now, lets split our training datasets for the model building. Also before that,<br/>we must define first our \"**x-and-y**\" (independent and dependent variables)"
   ]
  },
  {
   "cell_type": "code",
   "execution_count": 10,
   "id": "3f6f6d2f",
   "metadata": {},
   "outputs": [],
   "source": [
    "from sklearn.model_selection import train_test_split\n",
    "\n",
    "y = train['Survived'] # assign survive column as models decide it\n",
    "x = train.drop(\"Survived\", axis=1) # assign the rest as the predictors\n",
    "\n",
    "x_train, x_val, y_train, y_val = train_test_split(x, y, test_size=0.2, random_state=42)"
   ]
  },
  {
   "cell_type": "markdown",
   "id": "bcd78c1f",
   "metadata": {},
   "source": [
    "Then, import classifiers from **sklearn**🤔 to build then train our models💃 of \"Machine Learning\" 😱🤖"
   ]
  },
  {
   "cell_type": "code",
   "execution_count": 11,
   "id": "80b1e058",
   "metadata": {},
   "outputs": [],
   "source": [
    "from sklearn.linear_model import LogisticRegression\n",
    "from sklearn.naive_bayes import GaussianNB\n",
    "from sklearn import tree\n",
    "from sklearn.svm import SVC\n",
    "from sklearn.neighbors import KNeighborsClassifier\n",
    "from sklearn.ensemble import RandomForestClassifier\n",
    "from xgboost import XGBClassifier # you may need to install this classifier first\n",
    "# run in the code cell \"pip install xgboost\" and restart the kernel, voila!"
   ]
  },
  {
   "cell_type": "markdown",
   "id": "16281b47",
   "metadata": {},
   "source": [
    "Then import those below to score our classifiers. Accuracy is accuracy 😬 and cross_val_score is cross validation score 😬😬😬"
   ]
  },
  {
   "cell_type": "markdown",
   "id": "d21483f7",
   "metadata": {},
   "source": [
    "Well, accuracy measure how accurate your model predict the y-value\n",
    "for example</br>\n",
    "y_predict = [0,1,1,0]</br>\n",
    "y_actual  = [0,0,1,1]</br>\n",
    "Then your model's accuracy is 0.5. (first and third of them are matches)\n",
    "\n",
    "For cross validation.... Google may explain better for you I guess 😬😬😬"
   ]
  },
  {
   "cell_type": "code",
   "execution_count": 12,
   "id": "0293140c",
   "metadata": {},
   "outputs": [],
   "source": [
    "from sklearn.metrics import accuracy_score\n",
    "from sklearn.model_selection import cross_val_score"
   ]
  },
  {
   "cell_type": "markdown",
   "id": "fcd8244c",
   "metadata": {},
   "source": [
    "After that, the show goes on 🥳\n",
    "\n",
    "Train our model and let's see which model produce best cross validation score 👀"
   ]
  },
  {
   "cell_type": "markdown",
   "id": "16993716",
   "metadata": {},
   "source": [
    "#### Logistic Regression"
   ]
  },
  {
   "cell_type": "code",
   "execution_count": 13,
   "id": "ef229de6",
   "metadata": {},
   "outputs": [
    {
     "name": "stderr",
     "output_type": "stream",
     "text": [
      "C:\\Users\\HP\\anaconda3\\lib\\site-packages\\sklearn\\linear_model\\_logistic.py:814: ConvergenceWarning: lbfgs failed to converge (status=1):\n",
      "STOP: TOTAL NO. of ITERATIONS REACHED LIMIT.\n",
      "\n",
      "Increase the number of iterations (max_iter) or scale the data as shown in:\n",
      "    https://scikit-learn.org/stable/modules/preprocessing.html\n",
      "Please also refer to the documentation for alternative solver options:\n",
      "    https://scikit-learn.org/stable/modules/linear_model.html#logistic-regression\n",
      "  n_iter_i = _check_optimize_result(\n",
      "C:\\Users\\HP\\anaconda3\\lib\\site-packages\\sklearn\\linear_model\\_logistic.py:814: ConvergenceWarning: lbfgs failed to converge (status=1):\n",
      "STOP: TOTAL NO. of ITERATIONS REACHED LIMIT.\n",
      "\n",
      "Increase the number of iterations (max_iter) or scale the data as shown in:\n",
      "    https://scikit-learn.org/stable/modules/preprocessing.html\n",
      "Please also refer to the documentation for alternative solver options:\n",
      "    https://scikit-learn.org/stable/modules/linear_model.html#logistic-regression\n",
      "  n_iter_i = _check_optimize_result(\n"
     ]
    },
    {
     "name": "stdout",
     "output_type": "stream",
     "text": [
      "[0.82517483 0.81118881 0.78873239 0.73943662 0.8028169 ]\n",
      "0.7934699103713188\n",
      "0.8100558659217877\n"
     ]
    }
   ],
   "source": [
    "clf_lr = LogisticRegression(random_state=0, max_iter=100).fit(x_train, y_train)\n",
    "cv_lr = cross_val_score(LogisticRegression(), x_train, y_train, cv=5)\n",
    "y_val_pred = clf_lr.predict(x_val)\n",
    "acc_lr = accuracy_score(y_val, y_val_pred)\n",
    "\n",
    "print(cv_lr)\n",
    "print(cv_lr.mean())\n",
    "print(acc_lr)"
   ]
  },
  {
   "cell_type": "markdown",
   "id": "efeefae7",
   "metadata": {},
   "source": [
    "#### Decision Tree"
   ]
  },
  {
   "cell_type": "code",
   "execution_count": 14,
   "id": "6728742d",
   "metadata": {},
   "outputs": [
    {
     "name": "stdout",
     "output_type": "stream",
     "text": [
      "[0.74825175 0.76923077 0.76056338 0.76056338 0.74647887]\n",
      "0.7570176302570668\n",
      "0.7821229050279329\n"
     ]
    }
   ],
   "source": [
    "clf_tree = tree.DecisionTreeClassifier(random_state=42).fit(x_train, y_train)\n",
    "cv_tree = cross_val_score(tree.DecisionTreeClassifier(), x_train, y_train, cv=5)\n",
    "y_val_tree = clf_tree.predict(x_val)\n",
    "acc_tree = accuracy_score(y_val, y_val_tree)\n",
    "\n",
    "\n",
    "print(cv_tree)\n",
    "print(cv_tree.mean())\n",
    "print(acc_tree)"
   ]
  },
  {
   "cell_type": "markdown",
   "id": "a0cc9b4d",
   "metadata": {},
   "source": [
    "#### K-Nearest Neighbors"
   ]
  },
  {
   "cell_type": "code",
   "execution_count": 15,
   "id": "ad3755ae",
   "metadata": {},
   "outputs": [
    {
     "name": "stdout",
     "output_type": "stream",
     "text": [
      "[0.68531469 0.67132867 0.71126761 0.70422535 0.73943662]\n",
      "0.7023145868216292\n",
      "0.7206703910614525\n"
     ]
    }
   ],
   "source": [
    "clf_knn = KNeighborsClassifier().fit(x_train, y_train)\n",
    "cv_knn = cross_val_score(KNeighborsClassifier(), x_train, y_train, cv=5)\n",
    "y_val_knn = clf_knn.predict(x_val)\n",
    "acc_knn = accuracy_score(y_val, y_val_knn)\n",
    "\n",
    "print(cv_knn)\n",
    "print(cv_knn.mean())\n",
    "print(acc_knn)"
   ]
  },
  {
   "cell_type": "markdown",
   "id": "0b4a48b3",
   "metadata": {},
   "source": [
    "#### Random Forest"
   ]
  },
  {
   "cell_type": "code",
   "execution_count": 16,
   "id": "78cfbc01",
   "metadata": {},
   "outputs": [
    {
     "name": "stdout",
     "output_type": "stream",
     "text": [
      "[0.82517483 0.75524476 0.8028169  0.78873239 0.81690141]\n",
      "0.7977740569289864\n",
      "0.8044692737430168\n"
     ]
    }
   ],
   "source": [
    "clf_rdf = RandomForestClassifier(random_state = 1).fit(x_train, y_train)\n",
    "cv_rdf = cross_val_score(RandomForestClassifier(random_state = 1), x_train, y_train, cv=5)\n",
    "y_val_rdf = clf_rdf.predict(x_val)\n",
    "acc_rdf = accuracy_score(y_val, y_val_rdf)\n",
    "\n",
    "print(cv_rdf)\n",
    "print(cv_rdf.mean())\n",
    "print(acc_rdf)"
   ]
  },
  {
   "cell_type": "markdown",
   "id": "b424b614",
   "metadata": {},
   "source": [
    "#### Extreme Gradient Boosting"
   ]
  },
  {
   "cell_type": "code",
   "execution_count": 17,
   "id": "d9caeb78",
   "metadata": {},
   "outputs": [
    {
     "name": "stdout",
     "output_type": "stream",
     "text": [
      "[0.8041958  0.75524476 0.78873239 0.79577465 0.8028169 ]\n",
      "0.7893529006205062\n",
      "0.7932960893854749\n"
     ]
    }
   ],
   "source": [
    "clf_xgb = XGBClassifier(random_state =1).fit(x_train, y_train)\n",
    "cv_xgb = cross_val_score(XGBClassifier(random_state =1), x_train, y_train, cv=5)\n",
    "y_val_xgb = clf_xgb.predict(x_val)\n",
    "acc_xgb = accuracy_score(y_val, y_val_xgb)\n",
    "\n",
    "print(cv_xgb)\n",
    "print(cv_xgb.mean())\n",
    "print(acc_xgb)"
   ]
  },
  {
   "cell_type": "markdown",
   "id": "55e84096",
   "metadata": {},
   "source": [
    "#### Support Vector Classifier"
   ]
  },
  {
   "cell_type": "code",
   "execution_count": 18,
   "id": "ed7e33c8",
   "metadata": {},
   "outputs": [
    {
     "name": "stdout",
     "output_type": "stream",
     "text": [
      "[0.69230769 0.67832168 0.64084507 0.65492958 0.66197183]\n",
      "0.6656751699005221\n",
      "0.659217877094972\n"
     ]
    }
   ],
   "source": [
    "clf_svc = SVC().fit(x_train, y_train)\n",
    "cv_svc = cross_val_score(SVC(), x_train, y_train, cv=5)\n",
    "y_val_svc = clf_svc.predict(x_val)\n",
    "acc_svc = accuracy_score(y_val, y_val_svc)\n",
    "\n",
    "print(cv_svc)\n",
    "print(cv_svc.mean())\n",
    "print(acc_svc)"
   ]
  },
  {
   "cell_type": "markdown",
   "id": "bec25495",
   "metadata": {},
   "source": [
    "### Suddenly i feel like I want to apply my bitesize knowledge about 'Classes and Object' soo...\n",
    "#### First, I made it to store every result I made\n",
    "#### Then I realize that all of process in the cell above can be made here. So it's possible that all down below do not a \"storage\" anymore. Instead, it act as the \"factory\" 😓\n",
    "As you can see, the *cvsscore* and *accuracy* function inside class is not parsed, but it's calculating..."
   ]
  },
  {
   "cell_type": "code",
   "execution_count": 19,
   "id": "597085f5",
   "metadata": {
    "scrolled": true
   },
   "outputs": [],
   "source": [
    "class MLclfs:\n",
    "    def __init__(self):\n",
    "        pass\n",
    "    \n",
    "    def set(self, cvstype, clfstype, accuracy, modelname, newclfs):\n",
    "        self.cvs = cvstype\n",
    "        self.clfs = clfstype\n",
    "        self.acc = accuracy\n",
    "        self.name = modelname\n",
    "        self.clfs_new = newclfs\n",
    "        \n",
    "    def cvsmean(self):\n",
    "        return self.cvs.mean()\n",
    "        \n",
    "    def cvsscore(self):\n",
    "        return cross_val_score(self.clfs_new, x_train, y_train, cv=5)\n",
    "    \n",
    "    def y_result(self, testdata):\n",
    "        return self.clfs_new.fit(x_train, y_train).predict(testdata)\n",
    "    \n",
    "    def accuracy(self):\n",
    "        return accuracy_score(y_val, self.clfs_new.fit(x_train, y_train).predict(x_val))\n",
    "\n",
    "lr, dtree, knn, rdf, xgb, suppvc = [MLclfs() for i in range(6)]\n",
    "\n",
    "name = [lr,dtree,knn,rdf,xgb,suppvc]\n",
    "cvs = [cv_lr, cv_tree, cv_knn, cv_rdf, cv_xgb, cv_svc]\n",
    "clfs = [clf_lr, clf_tree, clf_knn, clf_rdf, clf_xgb,clf_svc]\n",
    "acc = [acc_lr, acc_tree, acc_knn, acc_rdf, acc_xgb, acc_svc]\n",
    "modelname = [\"Logistic Regression\", \"Decision Tree\", \"K-Nearest Neighbor\",\n",
    "             \"Random Forest\", \"Extreme Gradient Boost\", \"SVC\"]\n",
    "clfs_new = [LogisticRegression(random_state = 1, max_iter = 1000), tree.DecisionTreeClassifier(), KNeighborsClassifier(),\n",
    "            RandomForestClassifier(random_state = 1), XGBClassifier(random_state =1), SVC()]\n",
    "\n",
    "for i in range(len(name)):\n",
    "    name[i].set(cvs[i], clfs[i], acc[i], modelname[i], clfs_new[i])\n",
    "\n",
    "mean_array = []   \n",
    "def get_all_mean():\n",
    "    print(\"\\nMean :\")\n",
    "    for i in range(len(name)):\n",
    "        mean_result = print(\"{} = \".format(modelname[i]), name[i].cvsmean())\n",
    "        mean_array.append(name[i].cvsmean())\n",
    "    return mean_result, mean_array\n",
    "\n",
    "\n",
    "def get_all_score():\n",
    "    print(\"\\nScore of 5 Cross Validation :\")\n",
    "    for i in range(len(name)):\n",
    "        score_result = print(\"{} = \".format(modelname[i]), name[i].cvsscore())\n",
    "    return score_result\n",
    "\n",
    "def get_all_accuracy():\n",
    "    print(\"\\nAccuracy :\")\n",
    "    for i in range(len(name)):\n",
    "        acc_result = print(\"{} = \".format(modelname[i]), name[i].accuracy())\n",
    "    return acc_result\n",
    "\n",
    "def max_mean():\n",
    "    return print(\"\\nMax mean = \", max(mean_array))\n",
    "\n",
    "# lr.cvsmean\n",
    "# get_all_mean()\n",
    "# get_all_accuracy()\n",
    "# get_all_score()\n",
    "# max_mean()\n",
    "# dtree.y_result(x_train)"
   ]
  },
  {
   "cell_type": "markdown",
   "id": "2112f7f2",
   "metadata": {},
   "source": [
    "### Should we try on normalized/standardized \"Fare\" and \"Age\" ?.....\n",
    "#### *should've create the training of models as a function before 😪"
   ]
  },
  {
   "cell_type": "code",
   "execution_count": 20,
   "id": "090856a9",
   "metadata": {
    "scrolled": true
   },
   "outputs": [
    {
     "data": {
      "text/plain": [
       "<AxesSubplot:>"
      ]
     },
     "execution_count": 20,
     "metadata": {},
     "output_type": "execute_result"
    },
    {
     "data": {
      "image/png": "[encoded data removed]",
      "text/plain": [
       "<Figure size 1440x432 with 1 Axes>"
      ]
     },
     "metadata": {
      "needs_background": "light"
     },
     "output_type": "display_data"
    }
   ],
   "source": [
    "train.plot(kind='box', figsize=(20,6))"
   ]
  },
  {
   "cell_type": "code",
   "execution_count": 21,
   "id": "944745c7",
   "metadata": {
    "scrolled": true
   },
   "outputs": [],
   "source": [
    "\n",
    "\n",
    "#train['NormalizedFare'] = (train.Fare - train.Fare.min()) / (train.Fare.max()- train.Fare.min())\n",
    "#train.head()\n"
   ]
  },
  {
   "cell_type": "markdown",
   "id": "c76eae7f",
   "metadata": {},
   "source": [
    "### OK but maybe just later for the next \"version\" 🌈\n",
    "Later some improvement can be applied such as **train with normalized/standardized Fare and Age.**</br>\n",
    "Or **adding another independent variables** such as **title of the passenger** (with some regex🥴),</br>\n",
    "or something we can determine from the **Ticket** and **Cabin** maybe...\n",
    "\n",
    "Just like Mark Twain says, it really got me like 🙂"
   ]
  },
  {
   "cell_type": "markdown",
   "id": "3d029b89",
   "metadata": {},
   "source": [
    "<img style=\"float: left;\" src=\"https://user-images.githubusercontent.com/111634631/188610723-dfb26c25-1e9c-42d0-a672-027b700b67ce.jpeg\">"
   ]
  },
  {
   "cell_type": "markdown",
   "id": "fb9ff770",
   "metadata": {},
   "source": [
    "So, until next time!"
   ]
  },
  {
   "cell_type": "markdown",
   "id": "af78dec3",
   "metadata": {},
   "source": [
    "I wanna try submitting to Kaggle with **Random Forest** for the classifier, let's see how bad the mark I'll get😬😩"
   ]
  },
  {
   "cell_type": "code",
   "execution_count": 22,
   "id": "ddd17334",
   "metadata": {},
   "outputs": [],
   "source": [
    "test_preds = rdf.y_result(test)"
   ]
  },
  {
   "cell_type": "code",
   "execution_count": 23,
   "id": "3292f544",
   "metadata": {},
   "outputs": [],
   "source": [
    "df = pd.DataFrame({'PassengerId': test_id.values,\n",
    "                 'Survived': test_preds})"
   ]
  },
  {
   "cell_type": "code",
   "execution_count": 24,
   "id": "8ec2927f",
   "metadata": {},
   "outputs": [],
   "source": [
    "df.to_csv(\"Kagglesubmission.csv\", index=False)"
   ]
  }
 ],
 "metadata": {
  "kernelspec": {
   "display_name": "Python 3 (ipykernel)",
   "language": "python",
   "name": "python3"
  },
  "language_info": {
   "codemirror_mode": {
    "name": "ipython",
    "version": 3
   },
   "file_extension": ".py",
   "mimetype": "text/x-python",
   "name": "python",
   "nbconvert_exporter": "python",
   "pygments_lexer": "ipython3",
   "version": "3.9.12"
  }
 },
 "nbformat": 4,
 "nbformat_minor": 5
}
